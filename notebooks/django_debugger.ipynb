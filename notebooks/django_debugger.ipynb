{
 "cells": [
  {
   "cell_type": "code",
   "execution_count": 1,
   "metadata": {},
   "outputs": [],
   "source": [
    "import os"
   ]
  },
  {
   "cell_type": "code",
   "execution_count": 4,
   "metadata": {},
   "outputs": [],
   "source": [
    "import requests"
   ]
  },
  {
   "cell_type": "code",
   "execution_count": 5,
   "metadata": {},
   "outputs": [],
   "source": [
    "# Oxford Dictionaries API Credentials\n",
    "OD_API_BASE_URL = os.environ['OD_API_BASE_URL']\n",
    "OD_APPLICATION_ID = os.environ['OD_APPLICATION_ID']\n",
    "OD_APPLICATION_KEY_1 = os.environ['OD_APPLICATION_KEY_1']\n",
    "LANGUAGE = 'en-gb'"
   ]
  },
  {
   "cell_type": "code",
   "execution_count": 6,
   "metadata": {},
   "outputs": [],
   "source": [
    "winning_word = 'FIRTH'"
   ]
  },
  {
   "cell_type": "code",
   "execution_count": 7,
   "metadata": {},
   "outputs": [],
   "source": [
    "word_to_lookup = winning_word"
   ]
  },
  {
   "cell_type": "code",
   "execution_count": 8,
   "metadata": {},
   "outputs": [],
   "source": [
    "url = f'{OD_API_BASE_URL}{LANGUAGE}{\"/\"}{word_to_lookup.lower()}'"
   ]
  },
  {
   "cell_type": "code",
   "execution_count": 9,
   "metadata": {},
   "outputs": [],
   "source": [
    "headers = {\n",
    "    \"app_id\": OD_APPLICATION_ID,\n",
    "    \"app_key\": OD_APPLICATION_KEY_1,\n",
    "}"
   ]
  },
  {
   "cell_type": "code",
   "execution_count": 11,
   "metadata": {},
   "outputs": [],
   "source": [
    "response = requests.get(url, headers=headers)"
   ]
  },
  {
   "cell_type": "code",
   "execution_count": 12,
   "metadata": {},
   "outputs": [
    {
     "data": {
      "text/plain": [
       "200"
      ]
     },
     "execution_count": 12,
     "metadata": {},
     "output_type": "execute_result"
    }
   ],
   "source": [
    "response.status_code"
   ]
  },
  {
   "cell_type": "code",
   "execution_count": 15,
   "metadata": {},
   "outputs": [],
   "source": [
    "response_json = response.json()"
   ]
  },
  {
   "cell_type": "code",
   "execution_count": 16,
   "metadata": {},
   "outputs": [
    {
     "data": {
      "text/plain": [
       "{'id': 'firth',\n",
       " 'metadata': {'operation': 'retrieve',\n",
       "  'provider': 'Oxford University Press',\n",
       "  'schema': 'RetrieveEntry'},\n",
       " 'results': [{'id': 'firth',\n",
       "   'language': 'en-gb',\n",
       "   'lexicalEntries': [{'entries': [{'etymologies': ['Middle English (originally Scots), from Old Norse fjǫrthr (see fjord)'],\n",
       "       'senses': [{'definitions': ['a narrow inlet of the sea; an estuary'],\n",
       "         'domains': [{'id': 'geography', 'text': 'Geography'}],\n",
       "         'examples': [{'notes': [{'text': 'in place names',\n",
       "             'type': 'grammaticalNote'}],\n",
       "           'text': 'the Moray Firth'}],\n",
       "         'id': 'm_en_gbus0366010.005',\n",
       "         'shortDefinitions': ['narrow inlet of sea'],\n",
       "         'thesaurusLinks': [{'entry_id': 'indentation',\n",
       "           'sense_id': 't_en_gb0007680.001'}]}]}],\n",
       "     'language': 'en-gb',\n",
       "     'lexicalCategory': {'id': 'noun', 'text': 'Noun'},\n",
       "     'pronunciations': [{'audioFile': 'http://audio.oxforddictionaries.com/en/mp3/firth_gb_1.mp3',\n",
       "       'dialects': ['British English'],\n",
       "       'phoneticNotation': 'IPA',\n",
       "       'phoneticSpelling': 'fəːθ'}],\n",
       "     'text': 'firth'}],\n",
       "   'type': 'headword',\n",
       "   'word': 'firth'}],\n",
       " 'word': 'firth'}"
      ]
     },
     "execution_count": 16,
     "metadata": {},
     "output_type": "execute_result"
    }
   ],
   "source": [
    "response_json"
   ]
  },
  {
   "cell_type": "code",
   "execution_count": 17,
   "metadata": {},
   "outputs": [],
   "source": [
    "definition = response_json['results'][0]['lexicalEntries'][0]"
   ]
  },
  {
   "cell_type": "code",
   "execution_count": 18,
   "metadata": {},
   "outputs": [
    {
     "data": {
      "text/plain": [
       "{'entries': [{'etymologies': ['Middle English (originally Scots), from Old Norse fjǫrthr (see fjord)'],\n",
       "   'senses': [{'definitions': ['a narrow inlet of the sea; an estuary'],\n",
       "     'domains': [{'id': 'geography', 'text': 'Geography'}],\n",
       "     'examples': [{'notes': [{'text': 'in place names',\n",
       "         'type': 'grammaticalNote'}],\n",
       "       'text': 'the Moray Firth'}],\n",
       "     'id': 'm_en_gbus0366010.005',\n",
       "     'shortDefinitions': ['narrow inlet of sea'],\n",
       "     'thesaurusLinks': [{'entry_id': 'indentation',\n",
       "       'sense_id': 't_en_gb0007680.001'}]}]}],\n",
       " 'language': 'en-gb',\n",
       " 'lexicalCategory': {'id': 'noun', 'text': 'Noun'},\n",
       " 'pronunciations': [{'audioFile': 'http://audio.oxforddictionaries.com/en/mp3/firth_gb_1.mp3',\n",
       "   'dialects': ['British English'],\n",
       "   'phoneticNotation': 'IPA',\n",
       "   'phoneticSpelling': 'fəːθ'}],\n",
       " 'text': 'firth'}"
      ]
     },
     "execution_count": 18,
     "metadata": {},
     "output_type": "execute_result"
    }
   ],
   "source": [
    "definition"
   ]
  },
  {
   "cell_type": "code",
   "execution_count": 22,
   "metadata": {},
   "outputs": [
    {
     "data": {
      "text/plain": [
       "'Noun'"
      ]
     },
     "execution_count": 22,
     "metadata": {},
     "output_type": "execute_result"
    }
   ],
   "source": [
    "definition['lexicalCategory']['text']"
   ]
  },
  {
   "cell_type": "code",
   "execution_count": null,
   "metadata": {},
   "outputs": [],
   "source": []
  },
  {
   "cell_type": "code",
   "execution_count": null,
   "metadata": {},
   "outputs": [],
   "source": []
  }
 ],
 "metadata": {
  "kernelspec": {
   "display_name": "Django Shell-Plus",
   "language": "python",
   "name": "django_extensions"
  },
  "language_info": {
   "codemirror_mode": {
    "name": "ipython",
    "version": 3
   },
   "file_extension": ".py",
   "mimetype": "text/x-python",
   "name": "python",
   "nbconvert_exporter": "python",
   "pygments_lexer": "ipython3",
   "version": "3.7.1"
  }
 },
 "nbformat": 4,
 "nbformat_minor": 2
}
