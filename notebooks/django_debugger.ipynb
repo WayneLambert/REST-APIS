{
 "cells": [
  {
   "cell_type": "code",
   "execution_count": 31,
   "metadata": {},
   "outputs": [],
   "source": [
    "import os"
   ]
  },
  {
   "cell_type": "code",
   "execution_count": 32,
   "metadata": {},
   "outputs": [],
   "source": [
    "import requests"
   ]
  },
  {
   "cell_type": "code",
   "execution_count": 33,
   "metadata": {},
   "outputs": [],
   "source": [
    "# Oxford Dictionaries API Credentials\n",
    "OD_API_BASE_URL = os.environ['OD_API_BASE_URL']\n",
    "OD_APPLICATION_ID = os.environ['OD_APPLICATION_ID']\n",
    "OD_APPLICATION_KEY_1 = os.environ['OD_APPLICATION_KEY_1']\n",
    "LANGUAGE = 'en-gb'"
   ]
  },
  {
   "cell_type": "code",
   "execution_count": 34,
   "metadata": {},
   "outputs": [],
   "source": [
    "winning_word = 'MURIATE'"
   ]
  },
  {
   "cell_type": "code",
   "execution_count": 35,
   "metadata": {},
   "outputs": [],
   "source": [
    "word_to_lookup = winning_word"
   ]
  },
  {
   "cell_type": "code",
   "execution_count": 36,
   "metadata": {},
   "outputs": [],
   "source": [
    "url = f'{OD_API_BASE_URL}{LANGUAGE}{\"/\"}{word_to_lookup.lower()}'"
   ]
  },
  {
   "cell_type": "code",
   "execution_count": 37,
   "metadata": {},
   "outputs": [],
   "source": [
    "headers = {\n",
    "    \"app_id\": OD_APPLICATION_ID,\n",
    "    \"app_key\": OD_APPLICATION_KEY_1,\n",
    "}"
   ]
  },
  {
   "cell_type": "code",
   "execution_count": 38,
   "metadata": {},
   "outputs": [],
   "source": [
    "response = requests.get(url, headers=headers)"
   ]
  },
  {
   "cell_type": "code",
   "execution_count": 39,
   "metadata": {},
   "outputs": [
    {
     "data": {
      "text/plain": [
       "200"
      ]
     },
     "execution_count": 39,
     "metadata": {},
     "output_type": "execute_result"
    }
   ],
   "source": [
    "response.status_code"
   ]
  },
  {
   "cell_type": "code",
   "execution_count": 40,
   "metadata": {},
   "outputs": [],
   "source": [
    "response_json = response.json()"
   ]
  },
  {
   "cell_type": "code",
   "execution_count": 41,
   "metadata": {},
   "outputs": [
    {
     "data": {
      "text/plain": [
       "{'id': 'muriate',\n",
       " 'metadata': {'operation': 'retrieve',\n",
       "  'provider': 'Oxford University Press',\n",
       "  'schema': 'RetrieveEntry'},\n",
       " 'results': [{'id': 'muriate',\n",
       "   'language': 'en-gb',\n",
       "   'lexicalEntries': [{'entries': [{'senses': [{'crossReferenceMarkers': ['archaic term for chloride'],\n",
       "         'crossReferences': [{'id': 'chloride',\n",
       "           'text': 'chloride',\n",
       "           'type': 'another term for'}],\n",
       "         'id': 'm_en_gbus1185552.004'}]}],\n",
       "     'language': 'en-gb',\n",
       "     'lexicalCategory': {'id': 'noun', 'text': 'Noun'},\n",
       "     'pronunciations': [{'audioFile': 'http://audio.oxforddictionaries.com/en/mp3/muriate_gb_5.mp3',\n",
       "       'dialects': ['British English'],\n",
       "       'phoneticNotation': 'IPA',\n",
       "       'phoneticSpelling': 'ˈmjʊərɪət'}],\n",
       "     'text': 'muriate'}],\n",
       "   'type': 'headword',\n",
       "   'word': 'muriate'}],\n",
       " 'word': 'muriate'}"
      ]
     },
     "execution_count": 41,
     "metadata": {},
     "output_type": "execute_result"
    }
   ],
   "source": [
    "response_json"
   ]
  },
  {
   "cell_type": "code",
   "execution_count": 42,
   "metadata": {},
   "outputs": [],
   "source": [
    "definition = response_json['results'][0]['lexicalEntries'][0]"
   ]
  },
  {
   "cell_type": "code",
   "execution_count": 43,
   "metadata": {},
   "outputs": [
    {
     "data": {
      "text/plain": [
       "{'entries': [{'senses': [{'crossReferenceMarkers': ['archaic term for chloride'],\n",
       "     'crossReferences': [{'id': 'chloride',\n",
       "       'text': 'chloride',\n",
       "       'type': 'another term for'}],\n",
       "     'id': 'm_en_gbus1185552.004'}]}],\n",
       " 'language': 'en-gb',\n",
       " 'lexicalCategory': {'id': 'noun', 'text': 'Noun'},\n",
       " 'pronunciations': [{'audioFile': 'http://audio.oxforddictionaries.com/en/mp3/muriate_gb_5.mp3',\n",
       "   'dialects': ['British English'],\n",
       "   'phoneticNotation': 'IPA',\n",
       "   'phoneticSpelling': 'ˈmjʊərɪət'}],\n",
       " 'text': 'muriate'}"
      ]
     },
     "execution_count": 43,
     "metadata": {},
     "output_type": "execute_result"
    }
   ],
   "source": [
    "definition"
   ]
  },
  {
   "cell_type": "code",
   "execution_count": 44,
   "metadata": {},
   "outputs": [
    {
     "ename": "KeyError",
     "evalue": "'definitions'",
     "output_type": "error",
     "traceback": [
      "\u001b[0;31m---------------------------------------------------------------------------\u001b[0m",
      "\u001b[0;31mKeyError\u001b[0m                                  Traceback (most recent call last)",
      "\u001b[0;32m<ipython-input-44-f9936d35b53e>\u001b[0m in \u001b[0;36m<module>\u001b[0;34m\u001b[0m\n\u001b[0;32m----> 1\u001b[0;31m \u001b[0mdefinition\u001b[0m \u001b[0;34m=\u001b[0m \u001b[0mdefinition\u001b[0m\u001b[0;34m[\u001b[0m\u001b[0;34m'entries'\u001b[0m\u001b[0;34m]\u001b[0m\u001b[0;34m[\u001b[0m\u001b[0;36m0\u001b[0m\u001b[0;34m]\u001b[0m\u001b[0;34m[\u001b[0m\u001b[0;34m'senses'\u001b[0m\u001b[0;34m]\u001b[0m\u001b[0;34m[\u001b[0m\u001b[0;36m0\u001b[0m\u001b[0;34m]\u001b[0m\u001b[0;34m[\u001b[0m\u001b[0;34m'definitions'\u001b[0m\u001b[0;34m]\u001b[0m\u001b[0;34m[\u001b[0m\u001b[0;36m0\u001b[0m\u001b[0;34m]\u001b[0m\u001b[0;34m.\u001b[0m\u001b[0mcapitalize\u001b[0m\u001b[0;34m(\u001b[0m\u001b[0;34m)\u001b[0m\u001b[0;34m\u001b[0m\u001b[0;34m\u001b[0m\u001b[0m\n\u001b[0m",
      "\u001b[0;31mKeyError\u001b[0m: 'definitions'"
     ]
    }
   ],
   "source": [
    "definition = definition['entries'][0]['senses'][0]['definitions'][0].capitalize()"
   ]
  },
  {
   "cell_type": "code",
   "execution_count": 30,
   "metadata": {},
   "outputs": [
    {
     "data": {
      "text/plain": [
       "'Easily perceived or understood; clear, self-evident, or apparent'"
      ]
     },
     "execution_count": 30,
     "metadata": {},
     "output_type": "execute_result"
    }
   ],
   "source": [
    "definition"
   ]
  },
  {
   "cell_type": "code",
   "execution_count": null,
   "metadata": {},
   "outputs": [],
   "source": []
  }
 ],
 "metadata": {
  "kernelspec": {
   "display_name": "Django Shell-Plus",
   "language": "python",
   "name": "django_extensions"
  },
  "language_info": {
   "codemirror_mode": {
    "name": "ipython",
    "version": 3
   },
   "file_extension": ".py",
   "mimetype": "text/x-python",
   "name": "python",
   "nbconvert_exporter": "python",
   "pygments_lexer": "ipython3",
   "version": "3.7.1"
  }
 },
 "nbformat": 4,
 "nbformat_minor": 2
}
